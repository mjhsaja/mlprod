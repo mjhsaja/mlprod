{
 "cells": [
  {
   "cell_type": "markdown",
   "id": "d7f347f9-440b-4d37-8f23-8330ed566304",
   "metadata": {},
   "source": [
    "## Implementasi Python untuk Ttest"
   ]
  },
  {
   "cell_type": "code",
   "execution_count": 5,
   "id": "67048373-72b0-462b-8591-7ab4cc00f751",
   "metadata": {},
   "outputs": [],
   "source": [
    "import scipy.stats as stats"
   ]
  },
  {
   "cell_type": "code",
   "execution_count": 6,
   "id": "8588e856-8107-4470-9ed6-5381681fb1a9",
   "metadata": {},
   "outputs": [],
   "source": [
    "import numpy as np"
   ]
  },
  {
   "cell_type": "code",
   "execution_count": 7,
   "id": "20e28147-e2b5-419b-ab1b-edf8af639c66",
   "metadata": {},
   "outputs": [
    {
     "data": {
      "text/plain": [
       "array([22, 21, 22, 23, 20, 23, 24, 24, 20, 22, 21, 22, 21, 23, 24, 24, 20,\n",
       "       21, 23, 20, 20, 22, 20, 23, 21, 23, 23, 24, 24, 22], dtype=int32)"
      ]
     },
     "execution_count": 7,
     "metadata": {},
     "output_type": "execute_result"
    }
   ],
   "source": [
    "data = np.random.randint(20,25,30)\n",
    "data"
   ]
  },
  {
   "cell_type": "code",
   "execution_count": 18,
   "id": "49c509a0-bc5e-405f-ba11-f81c571bb2e1",
   "metadata": {},
   "outputs": [],
   "source": [
    "## T-test (One Sided - Right(Greater))\n",
    "## H0: u = 20\n",
    "## H1: u > 20"
   ]
  },
  {
   "cell_type": "code",
   "execution_count": 20,
   "id": "1ff11239-08e8-48b0-af46-d5268be5c322",
   "metadata": {},
   "outputs": [
    {
     "name": "stdout",
     "output_type": "stream",
     "text": [
      "ttest = TtestResult(statistic=np.float64(7.878390845614243), pvalue=np.float64(5.45481533777258e-09), df=np.int64(29))\n",
      "pvalue = 5.45481533777258e-09\n",
      "Conclusion : The result pvalue < alpha is True.\n",
      "We SUCCESS to reject H0: u > 20\n"
     ]
    }
   ],
   "source": [
    "ttest = stats.ttest_1samp(a=data, popmean=20, alternative=\"greater\")\n",
    "print(\"ttest =\", ttest)\n",
    "pvalue = ttest.pvalue\n",
    "print(\"pvalue =\", pvalue)\n",
    "alpha = 0.05\n",
    "if(pvalue < alpha):\n",
    "    print(\"Conclusion : The result pvalue < alpha is True.\")\n",
    "    print(\"We SUCCESS to reject H0: u > 20\")\n",
    "else:\n",
    "    print(\"Conclusion : The result pvalue < alpha is False.\")\n",
    "    print(\"We FAILED to reject H0: u < 20\")"
   ]
  },
  {
   "cell_type": "code",
   "execution_count": null,
   "id": "109a3bcb-83d9-4ca6-b9f0-cd4016a0c84d",
   "metadata": {},
   "outputs": [],
   "source": [
    "## T-test (One Sided - Left(Less))\n",
    "## H0: u = 20\n",
    "## H1: u < 20"
   ]
  },
  {
   "cell_type": "code",
   "execution_count": 25,
   "id": "dfa56e6c-22a0-4d73-becd-9c73f9fed055",
   "metadata": {},
   "outputs": [
    {
     "name": "stdout",
     "output_type": "stream",
     "text": [
      "ttest = TtestResult(statistic=np.float64(7.878390845614243), pvalue=np.float64(0.9999999945451846), df=np.int64(29))\n",
      "pvalue = 0.9999999945451846\n",
      "Conclusion : The result pvalue < alpha is False.\n",
      "We FAILED to reject H0: u > 20\n"
     ]
    }
   ],
   "source": [
    "ttest = stats.ttest_1samp(a=data, popmean=20, alternative=\"less\")\n",
    "print(\"ttest =\", ttest)\n",
    "pvalue = ttest.pvalue\n",
    "print(\"pvalue =\", pvalue)\n",
    "alpha = 0.05\n",
    "if(pvalue < alpha):\n",
    "    print(\"Conclusion : The result pvalue < alpha is True.\")\n",
    "    print(\"We SUCCESS to reject H0: u < 20\")\n",
    "else:\n",
    "    print(\"Conclusion : The result pvalue < alpha is False.\")\n",
    "    print(\"We FAILED to reject H0: u > 20\")"
   ]
  },
  {
   "cell_type": "code",
   "execution_count": 23,
   "id": "ecf9220a-916c-4380-9b2b-d85c20a16aa9",
   "metadata": {},
   "outputs": [],
   "source": [
    "## T-test (Two Sided)\n",
    "## H0: u = 20\n",
    "## H1: u != 20"
   ]
  },
  {
   "cell_type": "code",
   "execution_count": 24,
   "id": "4b4a95fc-1c75-444e-baec-abc194f5ed76",
   "metadata": {},
   "outputs": [
    {
     "name": "stdout",
     "output_type": "stream",
     "text": [
      "ttest = TtestResult(statistic=np.float64(7.878390845614243), pvalue=np.float64(1.090963067554516e-08), df=np.int64(29))\n",
      "pvalue = 1.090963067554516e-08\n",
      "Conclusion : The result pvalue < alpha is True.\n",
      "We SUCCESS to reject H0: u != 20\n"
     ]
    }
   ],
   "source": [
    "ttest = stats.ttest_1samp(a=data, popmean=20)\n",
    "print(\"ttest =\", ttest)\n",
    "pvalue = ttest.pvalue\n",
    "print(\"pvalue =\", pvalue)\n",
    "alpha = 0.05\n",
    "if(pvalue < alpha):\n",
    "    print(\"Conclusion : The result pvalue < alpha is True.\")\n",
    "    print(\"We SUCCESS to reject H0: u != 20\")\n",
    "else:\n",
    "    print(\"Conclusion : The result pvalue < alpha is False.\")\n",
    "    print(\"We FAILED to reject H0: u = 20\")"
   ]
  },
  {
   "cell_type": "code",
   "execution_count": 30,
   "id": "570dcbd6-da81-49c6-ba2f-025b73ff5eef",
   "metadata": {},
   "outputs": [
    {
     "data": {
      "text/plain": [
       "[100,\n",
       " 150,\n",
       " 50,\n",
       " 100,\n",
       " 130,\n",
       " 120,\n",
       " 100,\n",
       " 110,\n",
       " 75,\n",
       " 65,\n",
       " 150,\n",
       " 120,\n",
       " 50,\n",
       " 100,\n",
       " 140,\n",
       " 90,\n",
       " 150,\n",
       " 50,\n",
       " 90]"
      ]
     },
     "execution_count": 30,
     "metadata": {},
     "output_type": "execute_result"
    }
   ],
   "source": [
    "data = [100,150,50,100,130,120,100,110,75,65,150,120,50,100,140,90,150,50,90]\n",
    "data"
   ]
  },
  {
   "cell_type": "code",
   "execution_count": 27,
   "id": "4ccf705d-af53-4aff-93e4-5f8cb1fbf8cd",
   "metadata": {},
   "outputs": [],
   "source": [
    "## T-test (One Sided - Greater)\n",
    "## H0: u = 100\n",
    "## H1: u > 100"
   ]
  },
  {
   "cell_type": "code",
   "execution_count": 32,
   "id": "ad05baba-60f1-41c9-bf03-493543e123ca",
   "metadata": {},
   "outputs": [
    {
     "name": "stdout",
     "output_type": "stream",
     "text": [
      "ttest = TtestResult(statistic=np.float64(0.2728153600887404), pvalue=np.float64(0.3940501944133966), df=np.int64(18))\n",
      "pvalue = 0.3940501944133966\n",
      "Conclusion : The result pvalue < alpha is False.\n",
      "We FAILED to reject H0: u < 100\n",
      "Average transaction amount after new campaign is not larger than 100. The Campaign is not effective. Don't use it for the population\n"
     ]
    }
   ],
   "source": [
    "ttest = stats.ttest_1samp(a=data, popmean=100, alternative=\"greater\")\n",
    "print(\"ttest =\", ttest)\n",
    "pvalue = ttest.pvalue\n",
    "print(\"pvalue =\", pvalue)\n",
    "alpha = 0.05\n",
    "if(pvalue < alpha):\n",
    "    print(\"Conclusion : The result pvalue < alpha is True.\")\n",
    "    print(\"We SUCCESS to reject H0: u > 100\")\n",
    "else:\n",
    "    print(\"Conclusion : The result pvalue < alpha is False.\")\n",
    "    print(\"We FAILED to reject H0: u < 100\")\n",
    "    print(\"Average transaction amount after new campaign is not larger than 100. The Campaign is not effective. Don't use it for the population\")"
   ]
  },
  {
   "cell_type": "code",
   "execution_count": null,
   "id": "80c90cd1-a136-4df4-a01d-4fe4a88c35ab",
   "metadata": {},
   "outputs": [],
   "source": []
  }
 ],
 "metadata": {
  "kernelspec": {
   "display_name": "Python 3 (ipykernel)",
   "language": "python",
   "name": "python3"
  },
  "language_info": {
   "codemirror_mode": {
    "name": "ipython",
    "version": 3
   },
   "file_extension": ".py",
   "mimetype": "text/x-python",
   "name": "python",
   "nbconvert_exporter": "python",
   "pygments_lexer": "ipython3",
   "version": "3.13.3"
  }
 },
 "nbformat": 4,
 "nbformat_minor": 5
}
