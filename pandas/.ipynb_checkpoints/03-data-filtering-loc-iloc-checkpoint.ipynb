{
 "cells": [
  {
   "cell_type": "code",
   "execution_count": 1,
   "id": "cd91884c-0859-42cd-b4c4-dae707ad07a7",
   "metadata": {},
   "outputs": [],
   "source": [
    "import pandas as pd"
   ]
  },
  {
   "cell_type": "code",
   "execution_count": 2,
   "id": "76515a44-fc10-4e70-a67c-6aedd4c12698",
   "metadata": {},
   "outputs": [
    {
     "data": {
      "text/html": [
       "<div>\n",
       "<style scoped>\n",
       "    .dataframe tbody tr th:only-of-type {\n",
       "        vertical-align: middle;\n",
       "    }\n",
       "\n",
       "    .dataframe tbody tr th {\n",
       "        vertical-align: top;\n",
       "    }\n",
       "\n",
       "    .dataframe thead th {\n",
       "        text-align: right;\n",
       "    }\n",
       "</style>\n",
       "<table border=\"1\" class=\"dataframe\">\n",
       "  <thead>\n",
       "    <tr style=\"text-align: right;\">\n",
       "      <th></th>\n",
       "      <th>cust_id</th>\n",
       "      <th>item_bought</th>\n",
       "      <th>city</th>\n",
       "    </tr>\n",
       "  </thead>\n",
       "  <tbody>\n",
       "    <tr>\n",
       "      <th>0</th>\n",
       "      <td>C1</td>\n",
       "      <td>10</td>\n",
       "      <td>Bandung</td>\n",
       "    </tr>\n",
       "    <tr>\n",
       "      <th>1</th>\n",
       "      <td>C2</td>\n",
       "      <td>15</td>\n",
       "      <td>Jakarta</td>\n",
       "    </tr>\n",
       "    <tr>\n",
       "      <th>2</th>\n",
       "      <td>C3</td>\n",
       "      <td>20</td>\n",
       "      <td>Bogor</td>\n",
       "    </tr>\n",
       "    <tr>\n",
       "      <th>3</th>\n",
       "      <td>C4</td>\n",
       "      <td>35</td>\n",
       "      <td>Tangerang</td>\n",
       "    </tr>\n",
       "    <tr>\n",
       "      <th>4</th>\n",
       "      <td>C5</td>\n",
       "      <td>4</td>\n",
       "      <td>Bali</td>\n",
       "    </tr>\n",
       "    <tr>\n",
       "      <th>5</th>\n",
       "      <td>C6</td>\n",
       "      <td>10</td>\n",
       "      <td>Jakarta</td>\n",
       "    </tr>\n",
       "    <tr>\n",
       "      <th>6</th>\n",
       "      <td>C7</td>\n",
       "      <td>2</td>\n",
       "      <td>Jakarta</td>\n",
       "    </tr>\n",
       "    <tr>\n",
       "      <th>7</th>\n",
       "      <td>C8</td>\n",
       "      <td>0</td>\n",
       "      <td>Bandung</td>\n",
       "    </tr>\n",
       "    <tr>\n",
       "      <th>8</th>\n",
       "      <td>C9</td>\n",
       "      <td>9</td>\n",
       "      <td>Bogor</td>\n",
       "    </tr>\n",
       "    <tr>\n",
       "      <th>9</th>\n",
       "      <td>C10</td>\n",
       "      <td>15</td>\n",
       "      <td>Jakarta</td>\n",
       "    </tr>\n",
       "  </tbody>\n",
       "</table>\n",
       "</div>"
      ],
      "text/plain": [
       "  cust_id  item_bought       city\n",
       "0      C1           10    Bandung\n",
       "1      C2           15    Jakarta\n",
       "2      C3           20      Bogor\n",
       "3      C4           35  Tangerang\n",
       "4      C5            4       Bali\n",
       "5      C6           10    Jakarta\n",
       "6      C7            2    Jakarta\n",
       "7      C8            0    Bandung\n",
       "8      C9            9      Bogor\n",
       "9     C10           15    Jakarta"
      ]
     },
     "execution_count": 2,
     "metadata": {},
     "output_type": "execute_result"
    }
   ],
   "source": [
    "df = pd.DataFrame({\"cust_id\": [\"C1\", \"C2\", \"C3\", \"C4\", \"C5\", \"C6\", \"C7\", \"C8\", \"C9\", \"C10\"],\n",
    "                   \"item_bought\": [10, 15, 20, 35, 4, 10, 2, 0, 9, 15],\n",
    "                   \"city\": [\"Bandung\", \"Jakarta\", \"Bogor\", \"Tangerang\", \"Bali\", \"Jakarta\", \"Jakarta\", \"Bandung\", \"Bogor\", \"Jakarta\"]\n",
    "                  })\n",
    "df"
   ]
  },
  {
   "cell_type": "markdown",
   "id": "2b62d1e3-b98c-418d-a992-1211ebb2e754",
   "metadata": {},
   "source": [
    "### loc"
   ]
  },
  {
   "cell_type": "code",
   "execution_count": 25,
   "id": "3894a5bf-95dc-43d2-9538-efe0700ca8cf",
   "metadata": {},
   "outputs": [
    {
     "data": {
      "text/plain": [
       "cust_id             C1\n",
       "item_bought         10\n",
       "city           Bandung\n",
       "Name: 0, dtype: object"
      ]
     },
     "execution_count": 25,
     "metadata": {},
     "output_type": "execute_result"
    }
   ],
   "source": [
    "# single value\n",
    "df.loc[0]"
   ]
  },
  {
   "cell_type": "code",
   "execution_count": 26,
   "id": "d54fee3c-79a4-41c5-8dfb-ae78399feb9e",
   "metadata": {},
   "outputs": [
    {
     "data": {
      "text/plain": [
       "'C1'"
      ]
     },
     "execution_count": 26,
     "metadata": {},
     "output_type": "execute_result"
    }
   ],
   "source": [
    "# single value\n",
    "df.loc[0, \"cust_id\"]"
   ]
  },
  {
   "cell_type": "code",
   "execution_count": 27,
   "id": "93135498-04de-403c-b4a6-7e095b614449",
   "metadata": {},
   "outputs": [
    {
     "data": {
      "text/plain": [
       "city           Bandung\n",
       "item_bought         10\n",
       "Name: 0, dtype: object"
      ]
     },
     "execution_count": 27,
     "metadata": {},
     "output_type": "execute_result"
    }
   ],
   "source": [
    "# single value\n",
    "df.loc[0, [\"city\", \"item_bought\"]]"
   ]
  },
  {
   "cell_type": "code",
   "execution_count": 28,
   "id": "0b245097-79ce-4cbe-bf35-bfe85b6b2aee",
   "metadata": {},
   "outputs": [
    {
     "data": {
      "text/plain": [
       "np.int64(10)"
      ]
     },
     "execution_count": 28,
     "metadata": {},
     "output_type": "execute_result"
    }
   ],
   "source": [
    "# single value\n",
    "df.loc[0, \"item_bought\"]"
   ]
  },
  {
   "cell_type": "code",
   "execution_count": 24,
   "id": "af645bf9-a526-49a6-bfef-675e02bf7198",
   "metadata": {},
   "outputs": [
    {
     "data": {
      "text/plain": [
       "0    C1\n",
       "1    C2\n",
       "2    C3\n",
       "3    C4\n",
       "4    C5\n",
       "Name: cust_id, dtype: object"
      ]
     },
     "execution_count": 24,
     "metadata": {},
     "output_type": "execute_result"
    }
   ],
   "source": [
    "# range of values\n",
    "df.loc[0:4, \"cust_id\"]"
   ]
  },
  {
   "cell_type": "code",
   "execution_count": 23,
   "id": "06616c2c-8ee9-4cd6-a1c3-407902525ca4",
   "metadata": {},
   "outputs": [
    {
     "data": {
      "text/html": [
       "<div>\n",
       "<style scoped>\n",
       "    .dataframe tbody tr th:only-of-type {\n",
       "        vertical-align: middle;\n",
       "    }\n",
       "\n",
       "    .dataframe tbody tr th {\n",
       "        vertical-align: top;\n",
       "    }\n",
       "\n",
       "    .dataframe thead th {\n",
       "        text-align: right;\n",
       "    }\n",
       "</style>\n",
       "<table border=\"1\" class=\"dataframe\">\n",
       "  <thead>\n",
       "    <tr style=\"text-align: right;\">\n",
       "      <th></th>\n",
       "      <th>cust_id</th>\n",
       "      <th>city</th>\n",
       "    </tr>\n",
       "  </thead>\n",
       "  <tbody>\n",
       "    <tr>\n",
       "      <th>0</th>\n",
       "      <td>C1</td>\n",
       "      <td>Bandung</td>\n",
       "    </tr>\n",
       "    <tr>\n",
       "      <th>1</th>\n",
       "      <td>C2</td>\n",
       "      <td>Jakarta</td>\n",
       "    </tr>\n",
       "    <tr>\n",
       "      <th>2</th>\n",
       "      <td>C3</td>\n",
       "      <td>Bogor</td>\n",
       "    </tr>\n",
       "    <tr>\n",
       "      <th>3</th>\n",
       "      <td>C4</td>\n",
       "      <td>Tangerang</td>\n",
       "    </tr>\n",
       "    <tr>\n",
       "      <th>4</th>\n",
       "      <td>C5</td>\n",
       "      <td>Bali</td>\n",
       "    </tr>\n",
       "  </tbody>\n",
       "</table>\n",
       "</div>"
      ],
      "text/plain": [
       "  cust_id       city\n",
       "0      C1    Bandung\n",
       "1      C2    Jakarta\n",
       "2      C3      Bogor\n",
       "3      C4  Tangerang\n",
       "4      C5       Bali"
      ]
     },
     "execution_count": 23,
     "metadata": {},
     "output_type": "execute_result"
    }
   ],
   "source": [
    "# range of values\n",
    "df.loc[0:4, [\"cust_id\", \"city\"]]"
   ]
  },
  {
   "cell_type": "markdown",
   "id": "decbbf9c-dd55-4132-a8da-a4d431c91073",
   "metadata": {},
   "source": [
    "### iloc"
   ]
  },
  {
   "cell_type": "code",
   "execution_count": 16,
   "id": "01b7f385-ad8f-4438-a196-e5f576c5faf6",
   "metadata": {},
   "outputs": [
    {
     "data": {
      "text/plain": [
       "'C1'"
      ]
     },
     "execution_count": 16,
     "metadata": {},
     "output_type": "execute_result"
    }
   ],
   "source": [
    "# single value\n",
    "df.iloc[0, 0]"
   ]
  },
  {
   "cell_type": "code",
   "execution_count": 17,
   "id": "ae55b6d4-78e9-4d93-859e-1f1a1c5794bf",
   "metadata": {},
   "outputs": [
    {
     "data": {
      "text/plain": [
       "'Bogor'"
      ]
     },
     "execution_count": 17,
     "metadata": {},
     "output_type": "execute_result"
    }
   ],
   "source": [
    "# single value\n",
    "df.iloc[2, 2]"
   ]
  },
  {
   "cell_type": "code",
   "execution_count": 18,
   "id": "291deb39-0082-4751-8175-0362d4d63ced",
   "metadata": {},
   "outputs": [
    {
     "data": {
      "text/html": [
       "<div>\n",
       "<style scoped>\n",
       "    .dataframe tbody tr th:only-of-type {\n",
       "        vertical-align: middle;\n",
       "    }\n",
       "\n",
       "    .dataframe tbody tr th {\n",
       "        vertical-align: top;\n",
       "    }\n",
       "\n",
       "    .dataframe thead th {\n",
       "        text-align: right;\n",
       "    }\n",
       "</style>\n",
       "<table border=\"1\" class=\"dataframe\">\n",
       "  <thead>\n",
       "    <tr style=\"text-align: right;\">\n",
       "      <th></th>\n",
       "      <th>cust_id</th>\n",
       "      <th>item_bought</th>\n",
       "      <th>city</th>\n",
       "    </tr>\n",
       "  </thead>\n",
       "  <tbody>\n",
       "    <tr>\n",
       "      <th>0</th>\n",
       "      <td>C1</td>\n",
       "      <td>10</td>\n",
       "      <td>Bandung</td>\n",
       "    </tr>\n",
       "    <tr>\n",
       "      <th>1</th>\n",
       "      <td>C2</td>\n",
       "      <td>15</td>\n",
       "      <td>Jakarta</td>\n",
       "    </tr>\n",
       "  </tbody>\n",
       "</table>\n",
       "</div>"
      ],
      "text/plain": [
       "  cust_id  item_bought     city\n",
       "0      C1           10  Bandung\n",
       "1      C2           15  Jakarta"
      ]
     },
     "execution_count": 18,
     "metadata": {},
     "output_type": "execute_result"
    }
   ],
   "source": [
    "# range of values\n",
    "df.iloc[0:2]"
   ]
  },
  {
   "cell_type": "code",
   "execution_count": 22,
   "id": "b0a5dcbf-9694-4f3e-bba9-a6e32985afea",
   "metadata": {},
   "outputs": [
    {
     "data": {
      "text/plain": [
       "0    C1\n",
       "1    C2\n",
       "Name: cust_id, dtype: object"
      ]
     },
     "execution_count": 22,
     "metadata": {},
     "output_type": "execute_result"
    }
   ],
   "source": [
    "# range of values\n",
    "df.iloc[0:2, 0]"
   ]
  },
  {
   "cell_type": "code",
   "execution_count": 20,
   "id": "b50e35b7-fb59-4184-859d-3a7e341eb649",
   "metadata": {},
   "outputs": [
    {
     "data": {
      "text/html": [
       "<div>\n",
       "<style scoped>\n",
       "    .dataframe tbody tr th:only-of-type {\n",
       "        vertical-align: middle;\n",
       "    }\n",
       "\n",
       "    .dataframe tbody tr th {\n",
       "        vertical-align: top;\n",
       "    }\n",
       "\n",
       "    .dataframe thead th {\n",
       "        text-align: right;\n",
       "    }\n",
       "</style>\n",
       "<table border=\"1\" class=\"dataframe\">\n",
       "  <thead>\n",
       "    <tr style=\"text-align: right;\">\n",
       "      <th></th>\n",
       "      <th>cust_id</th>\n",
       "      <th>item_bought</th>\n",
       "    </tr>\n",
       "  </thead>\n",
       "  <tbody>\n",
       "    <tr>\n",
       "      <th>0</th>\n",
       "      <td>C1</td>\n",
       "      <td>10</td>\n",
       "    </tr>\n",
       "    <tr>\n",
       "      <th>1</th>\n",
       "      <td>C2</td>\n",
       "      <td>15</td>\n",
       "    </tr>\n",
       "  </tbody>\n",
       "</table>\n",
       "</div>"
      ],
      "text/plain": [
       "  cust_id  item_bought\n",
       "0      C1           10\n",
       "1      C2           15"
      ]
     },
     "execution_count": 20,
     "metadata": {},
     "output_type": "execute_result"
    }
   ],
   "source": [
    "# range of values\n",
    "df.iloc[0:2, 0:2]"
   ]
  }
 ],
 "metadata": {
  "kernelspec": {
   "display_name": "Python 3 (ipykernel)",
   "language": "python",
   "name": "python3"
  },
  "language_info": {
   "codemirror_mode": {
    "name": "ipython",
    "version": 3
   },
   "file_extension": ".py",
   "mimetype": "text/x-python",
   "name": "python",
   "nbconvert_exporter": "python",
   "pygments_lexer": "ipython3",
   "version": "3.13.3"
  }
 },
 "nbformat": 4,
 "nbformat_minor": 5
}
