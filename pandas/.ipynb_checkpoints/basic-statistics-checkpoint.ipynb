{
 "cells": [
  {
   "cell_type": "markdown",
   "id": "610c7787-759c-4c1b-9f62-e767d32d057c",
   "metadata": {},
   "source": [
    "## Prequisites"
   ]
  },
  {
   "cell_type": "code",
   "execution_count": 7,
   "id": "9fe5c9d4-6461-4a10-a1c3-e704bdbe8a98",
   "metadata": {},
   "outputs": [],
   "source": [
    "import statistics\n",
    "import numpy as np"
   ]
  },
  {
   "cell_type": "code",
   "execution_count": 8,
   "id": "caaebca1-56c9-4d27-9dc4-a48977240219",
   "metadata": {},
   "outputs": [
    {
     "data": {
      "text/plain": [
       "array([81, 82, 13, 26,  9, 68, 75, 91, 25, 35, 73, 46, 23, 36, 64, 26, 60,\n",
       "       50,  2, 84, 89, 24, 66, 78, 43, 95, 45, 27, 97, 88, 21, 76, 61, 38,\n",
       "       51, 99, 95, 21,  3, 12, 62, 83, 67, 70, 21, 72, 81, 52, 82, 38, 82,\n",
       "       86, 16, 48, 99, 93, 49, 72, 42, 49, 18, 44, 50, 22, 78, 46, 95, 83,\n",
       "       62, 86, 33, 65, 71, 47, 76, 67, 76, 65, 30, 37, 58, 39, 99, 41, 86,\n",
       "       64, 94, 50, 90, 31, 44, 87, 89, 82,  5, 29, 41, 29, 17,  1],\n",
       "      dtype=int32)"
      ]
     },
     "execution_count": 8,
     "metadata": {},
     "output_type": "execute_result"
    }
   ],
   "source": [
    "## Persiapan random data\n",
    "data_num = np.random.randint(0,100,100)\n",
    "data_num"
   ]
  },
  {
   "cell_type": "code",
   "execution_count": 10,
   "id": "b5dd7538-9913-4859-bbd8-8c63d2019fb5",
   "metadata": {},
   "outputs": [
    {
     "data": {
      "text/plain": [
       "['S', 'M', 'L', 'XL', 'L', 'S']"
      ]
     },
     "execution_count": 10,
     "metadata": {},
     "output_type": "execute_result"
    }
   ],
   "source": [
    "data_cat = [\"S\", \"M\", \"L\", \"XL\", \"L\", \"S\"]\n",
    "data_cat"
   ]
  },
  {
   "cell_type": "markdown",
   "id": "c7b14c6c-3d4c-4584-a4cb-e43601822550",
   "metadata": {},
   "source": [
    "## Descriptive Statistics"
   ]
  },
  {
   "cell_type": "markdown",
   "id": "e33d15a2-2b74-4157-ac8a-0f8804ee0b06",
   "metadata": {},
   "source": [
    "### Measure of Central Tendency"
   ]
  },
  {
   "cell_type": "markdown",
   "id": "227a2a75-a33a-4f15-8a71-41580edccfaa",
   "metadata": {},
   "source": [
    "#### 1. **Mean (Rata-rata):**  \n",
    "   Rumus rata-rata adalah jumlah semua nilai dibagi dengan jumlah data.  \n",
    "   $$\\LARGE \\text{Mean} = \\frac{\\sum_{i=1}^{n} x_i}{n}$$\n",
    "\n",
    "#### 2. **Median (Nilai Tengah):**  \n",
    "   Median adalah nilai tengah dari data terurut. Untuk \\(n\\) data:  \n",
    "   \n",
    "   $$\\LARGE \\text{Median} = \n",
    "   \\begin{cases} \n",
    "   x_{\\frac{n+1}{2}} & \\text{jika } n \\text{ ganjil} \\\\\n",
    "   \\frac{x_{\\frac{n}{2}} + x_{\\frac{n}{2}+1}}{2} & \\text{jika } n \\text{ genap}\n",
    "   \\end{cases}$$\n",
    "   \n",
    "\n",
    "#### 3. **Modus (Nilai Terbanyak):**  \n",
    "   Modus adalah nilai dengan frekuensi tertinggi.  \n",
    "   $$\\LARGE \\text{Modus} = \\text{nilai dengan frekuensi tertinggi dalam data}$$"
   ]
  },
  {
   "cell_type": "markdown",
   "id": "dd1b49b4-37cc-4972-92d3-8ada8d5658a6",
   "metadata": {},
   "source": [
    "#### Implementasi Python"
   ]
  },
  {
   "cell_type": "code",
   "execution_count": 11,
   "id": "cb1147d2-8ac7-4afd-950e-e0c07b428f4c",
   "metadata": {},
   "outputs": [
    {
     "data": {
      "text/plain": [
       "np.int32(55)"
      ]
     },
     "execution_count": 11,
     "metadata": {},
     "output_type": "execute_result"
    }
   ],
   "source": [
    "## Mean\n",
    "statistics.mean(data_num)"
   ]
  },
  {
   "cell_type": "code",
   "execution_count": 12,
   "id": "a81e1586-5b2c-4423-a4ad-fcffcd4f5405",
   "metadata": {},
   "outputs": [
    {
     "data": {
      "text/plain": [
       "np.float64(59.0)"
      ]
     },
     "execution_count": 12,
     "metadata": {},
     "output_type": "execute_result"
    }
   ],
   "source": [
    "## Median\n",
    "statistics.median(data_num)"
   ]
  },
  {
   "cell_type": "code",
   "execution_count": 14,
   "id": "415dc4c1-b278-452a-9b18-f82f74b2b12a",
   "metadata": {},
   "outputs": [
    {
     "data": {
      "text/plain": [
       "np.int32(82)"
      ]
     },
     "execution_count": 14,
     "metadata": {},
     "output_type": "execute_result"
    }
   ],
   "source": [
    "## Modus\n",
    "statistics.mode(data_num)"
   ]
  },
  {
   "cell_type": "code",
   "execution_count": 15,
   "id": "92aec202-7953-43e9-bd3d-3d26a4beee7f",
   "metadata": {},
   "outputs": [
    {
     "data": {
      "text/plain": [
       "'S'"
      ]
     },
     "execution_count": 15,
     "metadata": {},
     "output_type": "execute_result"
    }
   ],
   "source": [
    "## Modus\n",
    "statistics.mode(data_cat)"
   ]
  },
  {
   "cell_type": "code",
   "execution_count": 16,
   "id": "8b0131b8-8caa-4695-addc-ddf19e5d444b",
   "metadata": {},
   "outputs": [
    {
     "data": {
      "text/plain": [
       "['S', 'L']"
      ]
     },
     "execution_count": 16,
     "metadata": {},
     "output_type": "execute_result"
    }
   ],
   "source": [
    "## Modus\n",
    "statistics.multimode(data_cat)"
   ]
  },
  {
   "cell_type": "markdown",
   "id": "dad8eae9-96f6-49e2-bb74-29420ad66202",
   "metadata": {},
   "source": [
    "### Measure of Variability-Spread"
   ]
  },
  {
   "cell_type": "markdown",
   "id": "d18b4cfc-c4ad-4a23-a70c-8d0576a6ae49",
   "metadata": {},
   "source": [
    "**Measure of Variability-Spread** adalah konsep dalam statistik yang digunakan untuk mengukur sejauh mana data dalam suatu kumpulan data tersebar atau bervariasi dari nilai tengahnya (seperti rata-rata). Ukuran ini membantu memahami tingkat penyebaran atau keragaman data. Berikut adalah penjelasan tentang beberapa ukuran variabilitas utama beserta contohnya:\n",
    "\n",
    "#### **1. Jangkauan (Range)**\n",
    "\n",
    "- **Definisi**: Selisih antara nilai maksimum dan minimum dalam kumpulan data.\n",
    "- **Rumus**:  \n",
    "  $$ \\text{Jangkauan} = \\text{Nilai Maksimum} - \\text{Nilai Minimum} $$\n",
    "- **Kelebihan**: Mudah dihitung.\n",
    "- **Kekurangan**: Sangat sensitif terhadap nilai ekstrem (outlier).\n",
    "- **Contoh**:  \n",
    "  Misalkan data adalah `[3, 5, 7, 9, 12]`.  \n",
    "  - Nilai maksimum = 12  \n",
    "  - Nilai minimum = 3  \n",
    "  - Jangkauan = \\( 12 - 3 = \\mathbf{9} \\)\n",
    "\n",
    "#### **2. Varians (Variance)**\n",
    "\n",
    "- **Definisi**: Rata-rata kuadrat deviasi (selisih) setiap data dari rata-rata.\n",
    "- **Rumus**:  \n",
    "  - Untuk populasi:  \n",
    "    $$ \\sigma^2 = \\frac{\\sum (x - \\mu)^2}{N} $$  \n",
    "    di mana \\( x \\) = nilai data, \\( \\mu \\) = rata-rata populasi, \\( N \\) = jumlah data.  \n",
    "  - Untuk sampel:  \n",
    "    $$ s^2 = \\frac{\\sum (x - \\bar{x})^2}{n - 1} $$  \n",
    "    di mana \\( \\bar{x} \\) = rata-rata sampel, \\( n \\) = jumlah data sampel.\n",
    "- **Kelebihan**: Memberikan gambaran menyeluruh tentang sebaran data.\n",
    "- **Kekurangan**: Satuannya adalah kuadrat dari satuan data asli, sehingga kurang intuitif.\n",
    "- **Contoh**:  \n",
    "  Misalkan data adalah `[2, 4, 6]` (dianggap sebagai sampel).  \n",
    "  - Langkah 1: Hitung rata-rata (\\( \\bar{x} \\)):  \n",
    "    $$ \\frac{2 + 4 + 6}{3} = \\mathbf{4} $$  \n",
    "  - Langkah 2: Hitung deviasi kuadrat:  \n",
    "    $$ (2 - 4)^2 = 4 $$  \n",
    "    $$ (4 - 4)^2 = 0 $$  \n",
    "    $$ (6 - 4)^2 = 4 $$  \n",
    "  - Langkah 3: Jumlahkan deviasi kuadrat:  \n",
    "    $$ 4 + 0 + 4 = 8 $$  \n",
    "  - Langkah 4: Bagi dengan \\( (n - 1) \\):  \n",
    "    $$ \\frac{8}{3 - 1} = \\frac{8}{2} = \\mathbf{4} $$  \n",
    "  - Varians sampel = \\( \\mathbf{4} \\)\n",
    "\n",
    "#### **3. Deviasi Standar (Standard Deviation)**\n",
    "\n",
    "- **Definisi**: Akar kuadrat dari varians, menunjukkan seberapa jauh data menyebar dari rata-rata.\n",
    "- **Rumus**:  \n",
    "  - Untuk populasi:  \n",
    "    $$ \\sigma = \\sqrt{\\sigma^2} $$  \n",
    "  - Untuk sampel:  \n",
    "    $$ s = \\sqrt{s^2} $$\n",
    "- **Kelebihan**: Satuannya sama dengan data asli, sehingga lebih mudah diinterpretasikan.\n",
    "- **Contoh**:  \n",
    "  Menggunakan varians dari contoh sebelumnya (varians sampel = 4).  \n",
    "  - Deviasi standar:  \n",
    "    $$ s = \\sqrt{4} = \\mathbf{2} $$  \n",
    "  - Interpretasi: Rata-rata data adalah 4, dan data cenderung menyebar sekitar ±2 dari rata-rata.\n",
    "\n",
    "#### **4. Interquartile Range (IQR)**\n",
    "\n",
    "- **Definisi**: Selisih antara kuartil ketiga (Q3) dan kuartil pertama (Q1), yang mencakup 50% data tengah.\n",
    "- **Rumus**:  \n",
    "  $$ \\text{IQR} = Q_3 - Q_1 $$\n",
    "- **Kelebihan**: Tidak sensitif terhadap outlier.\n",
    "- **Contoh**:  \n",
    "  Misalkan data adalah `[1, 3, 5, 7, 9]` (data sudah terurut).  \n",
    "  - Langkah 1: Tentukan \\( Q_1 \\) (kuartil pertama):  \n",
    "    \\( Q_1 \\) adalah median dari data bagian bawah, yaitu [1, 3].  \n",
    "    $$ Q_1 = \\frac{1 + 3}{2} = \\mathbf{2} $$  \n",
    "  - Langkah 2: Tentukan \\( Q_3 \\) (kuartil ketiga):  \n",
    "    \\( Q_3 \\) adalah median dari data bagian atas, yaitu [7, 9].  \n",
    "    $$ Q_3 = \\frac{7 + 9}{2} = \\mathbf{8} $$  \n",
    "  - Langkah 3: Hitung IQR:  \n",
    "    $$ \\text{IQR} = Q_3 - Q_1 = 8 - 2 = \\mathbf{6} $$\n",
    "\n",
    "#### **Pentingnya Ukuran Variabilitas**\n",
    "\n",
    "- Membantu memahami konsistensi atau ketidakstabilan data.\n",
    "- Digunakan dalam analisis risiko, pengambilan keputusan, dan perbandingan kumpulan data.\n",
    "- **Contoh Aplikasi**:  \n",
    "  Dua kelas memiliki rata-rata nilai ujian sama, yaitu 75.  \n",
    "  - Kelas A: Deviasi standar = 5 (nilai siswa seragam, berkisar sekitar 70-80).  \n",
    "  - Kelas B: Deviasi standar = 15 (nilai siswa bervariasi, ada yang sangat rendah atau tinggi).  \n",
    "  Informasi ini membantu guru menentukan strategi pengajaran yang sesuai."
   ]
  },
  {
   "cell_type": "markdown",
   "id": "b2063b25-0ae1-4e13-acab-8f30d5350520",
   "metadata": {},
   "source": [
    "#### Implementasi Python"
   ]
  },
  {
   "cell_type": "code",
   "execution_count": 17,
   "id": "78038aa3-6b26-445d-945e-57811a4a7a6e",
   "metadata": {},
   "outputs": [
    {
     "data": {
      "text/plain": [
       "np.float64(743.8579000000001)"
      ]
     },
     "execution_count": 17,
     "metadata": {},
     "output_type": "execute_result"
    }
   ],
   "source": [
    "## Variability\n",
    "np.var(data_num)"
   ]
  },
  {
   "cell_type": "code",
   "execution_count": 18,
   "id": "e3b50b58-e747-4390-bf06-27bc983089f6",
   "metadata": {},
   "outputs": [
    {
     "data": {
      "text/plain": [
       "np.float64(27.273758450202642)"
      ]
     },
     "execution_count": 18,
     "metadata": {},
     "output_type": "execute_result"
    }
   ],
   "source": [
    "## Standard Deviation\n",
    "np.std(data_num)"
   ]
  },
  {
   "cell_type": "code",
   "execution_count": 24,
   "id": "e74ea43a-af6a-4e1c-9f3d-2ffd92957acf",
   "metadata": {},
   "outputs": [
    {
     "data": {
      "text/plain": [
       "np.int32(98)"
      ]
     },
     "execution_count": 24,
     "metadata": {},
     "output_type": "execute_result"
    }
   ],
   "source": [
    "## Range\n",
    "np.max(data_num) - np.min(data_num)"
   ]
  },
  {
   "cell_type": "code",
   "execution_count": 22,
   "id": "d41cf7cc-4fc7-48a8-ac4d-7147581b4487",
   "metadata": {},
   "outputs": [
    {
     "name": "stdout",
     "output_type": "stream",
     "text": [
      "Q1 : 34.5\n",
      "Q2 : 59.0\n",
      "Q3 : 81.25\n"
     ]
    }
   ],
   "source": [
    "## Quartile\n",
    "print(\"Q1 :\", np.quantile(data_num, 0.25))\n",
    "print(\"Q2 :\", np.quantile(data_num, 0.5))\n",
    "print(\"Q3 :\", np.quantile(data_num, 0.75))"
   ]
  },
  {
   "cell_type": "markdown",
   "id": "b815033e-310e-49a1-a614-f03fd6fcc938",
   "metadata": {},
   "source": [
    "### Normal Distribution"
   ]
  },
  {
   "cell_type": "markdown",
   "id": "b2d48ae9-a6d8-4730-b0e5-ff693bb83825",
   "metadata": {},
   "source": [
    "**Distribusi Normal**, sering disebut sebagai distribusi Gaussian, adalah distribusi probabilitas kontinu yang sangat penting dalam statistik karena banyak fenomena di alam dan ilmu sosial mengikuti pola ini. Distribusi ini digambarkan sebagai kurva lonceng (bell curve) yang simetris, di mana sebagian besar data terkonsentrasi di sekitar nilai rata-rata.\n",
    "\n",
    "#### Karakteristik Distribusi Normal\n",
    "\n",
    "1. **Bentuk Kurva Lonceng**:  \n",
    "   - Kurva distribusi normal simetris terhadap rata-rata (\\( \\mu \\)).  \n",
    "   - Puncak kurva berada pada nilai rata-rata, menunjukkan probabilitas tertinggi.\n",
    "\n",
    "2. **Parameter Utama**:  \n",
    "   - **Rata-rata (\\( \\mu \\))**: Menentukan pusat distribusi (lokasi puncak kurva).  \n",
    "   - **Deviasi Standar (\\( \\sigma \\))**: Menentukan lebar kurva. Semakin besar \\( \\sigma \\), semakin lebar dan datar kurva; semakin kecil \\( \\sigma \\), semakin sempit dan tajam kurva.\n",
    "\n",
    "3. **Aturan Empiris (68-95-99.7 Rule)**:  \n",
    "   - Sekitar **68%** data berada dalam 1 deviasi standar dari rata-rata (\\( \\mu \\pm \\sigma \\)).  \n",
    "   - Sekitar **95%** data berada dalam 2 deviasi standar (\\( \\mu \\pm 2\\sigma \\)).  \n",
    "   - Sekitar **99.7%** data berada dalam 3 deviasi standar (\\( \\mu \\pm 3\\sigma \\)).\n",
    "\n",
    "4. **Simetris**:  \n",
    "   - Probabilitas untuk nilai di sisi kiri rata-rata sama dengan probabilitas di sisi kanan pada jarak yang sama.\n",
    "\n",
    "5. **Area di Bawah Kurva**:  \n",
    "   - Total luas di bawah kurva distribusi normal sama dengan 1 (100% probabilitas).  \n",
    "   - Probabilitas untuk rentang tertentu dihitung dari luas di bawah kurva pada rentang tersebut.\n",
    "\n",
    "#### Rumus Distribusi Normal\n",
    "\n",
    "Fungsi kepadatan probabilitas (probability density function, PDF) untuk distribusi normal diberikan oleh:\n",
    "\n",
    "$$ f(x) = \\frac{1}{\\sigma \\sqrt{2\\pi}} e^{-\\frac{(x - \\mu)^2}{2\\sigma^2}} $$\n",
    "\n",
    "- \\( x \\): Nilai variabel acak.\n",
    "- \\( \\mu \\): Rata-rata (mean).\n",
    "- \\( \\sigma \\): Deviasi standar.\n",
    "- \\( \\pi \\): Konstanta pi (\\(\\approx 3.14159\\)).\n",
    "- \\( e \\): Basis logaritma natural (\\(\\approx 2.71828\\)).\n",
    "\n",
    "Fungsi ini menentukan tinggi kurva pada setiap nilai \\( x \\), tetapi probabilitas dihitung dari luas di bawah kurva menggunakan integral atau tabel distribusi normal standar.\n",
    "\n",
    "#### Distribusi Normal Standar\n",
    "\n",
    "- Distribusi normal standar adalah distribusi normal dengan \\( \\mu = 0 \\) dan \\( \\sigma = 1 \\).\n",
    "- Setiap distribusi normal dapat diubah menjadi distribusi normal standar menggunakan **z-score**:\n",
    "  $$ z = \\frac{x - \\mu}{\\sigma} $$\n",
    "- Z-score menunjukkan berapa banyak dev -score menunjukkan berapa banyak deviasi standar suatu nilai dari rata-rata.\n",
    "- Tabel z-score digunakan untuk menghitung probabilitas pada distribusi normal standar.\n",
    "\n",
    "**Contoh :**\n",
    "\n",
    "Misalkan tinggi badan pria dewasa di suatu populasi berdistribusi normal dengan rata-rata \\( \\mu = 175 \\, \\text{cm} \\) dan deviasi standar \\( \\sigma = 8 \\, \\text{cm} \\).\n",
    "\n",
    "1. **Berapa probabilitas seseorang memiliki tinggi antara 167 cm dan 183 cm?**  \n",
    "   - Hitung z-score untuk kedua nilai:  \n",
    "     Untuk 167 cm:  \n",
    "     $$ z_1 = \\frac{167 - 175}{8} = -1 $$  \n",
    "     Untuk 183 cm:  \n",
    "     $$ z_2 = \\frac{183 - 175}{8} = 1 $$  \n",
    "   - Dari tabel distribusi normal standar:  \n",
    "     - Probabilitas untuk \\( z = -1 \\) adalah sekitar 0.1587.  \n",
    "     - Probabilitas untuk \\( z = 1 \\) adalah sekitar 0.8413.  \n",
    "   - Probabilitas antara \\( z = -1 \\) dan \\( z = 1 \\):  \n",
    "     $$ P(167 < x < 183) = 0.8413 - 0.1587 = \\mathbf{0.6826} \\, (68.26\\%) $$\n",
    "\n",
    "2. **Berapa probabilitas seseorang memiliki tinggi lebih dari 191 cm?**  \n",
    "   - Hitung z-score:  \n",
    "     $$ z = \\frac{191 - 175}{8} = 2 $$  \n",
    "   - Dari tabel: Probabilitas untuk \\( z = 2 \\) adalah 0.9772.  \n",
    "   - Probabilitas untuk \\( x > 191 \\, \\text{cm} \\):  \n",
    "     $$ P(x > 191) = 1 - 0.9772 = \\mathbf{0.0228} \\, (2.28\\%) $$\n",
    "\n",
    "#### Pentingnya Distribusi Normal\n",
    "\n",
    "- **Aplikasi**: Digunakan dalam statistik inferensial (uji hipotesis, interval kepercayaan), analisis data, keuangan (model harga saham), dan ilmu pengetahuan (pengukuran fisik seperti berat, tinggi, dll.).\n",
    "- **Teorema Limit Pusat (Central Limit Theorem)**: Jumlah sampel acak yang besar dari populasi apa pun akan cenderung berdistribusi normal, menjadikan distribusi normal dasar untuk banyak analisis statistik.\n",
    "- **Contoh Praktis**:  \n",
    "  - Menentukan persentase siswa yang lulus ujian berdasarkan nilai yang berdistribusi normal.  \n",
    "  - Memprediksi risiko keuangan berdasarkan fluktuasi harga yang mengikuti distribusi normal."
   ]
  },
  {
   "cell_type": "markdown",
   "id": "76ca395e-3b63-403b-bfb6-d936b68eed8b",
   "metadata": {},
   "source": [
    "#### Implementasi Python"
   ]
  },
  {
   "cell_type": "code",
   "execution_count": null,
   "id": "809cf938-82da-4c5a-b107-82fc74d50c0d",
   "metadata": {},
   "outputs": [],
   "source": []
  },
  {
   "cell_type": "markdown",
   "id": "9e433b9d-eacc-4d3c-a4f7-59aed3068d8c",
   "metadata": {},
   "source": [
    "## Inferential Statistics"
   ]
  },
  {
   "cell_type": "markdown",
   "id": "ccaa59e2-215a-46f5-a136-1bb2064ef991",
   "metadata": {},
   "source": []
  },
  {
   "cell_type": "code",
   "execution_count": null,
   "id": "e84bfa0e-7428-469f-8ade-3b31f16754d8",
   "metadata": {},
   "outputs": [],
   "source": []
  }
 ],
 "metadata": {
  "kernelspec": {
   "display_name": "Python 3 (ipykernel)",
   "language": "python",
   "name": "python3"
  },
  "language_info": {
   "codemirror_mode": {
    "name": "ipython",
    "version": 3
   },
   "file_extension": ".py",
   "mimetype": "text/x-python",
   "name": "python",
   "nbconvert_exporter": "python",
   "pygments_lexer": "ipython3",
   "version": "3.13.3"
  }
 },
 "nbformat": 4,
 "nbformat_minor": 5
}
