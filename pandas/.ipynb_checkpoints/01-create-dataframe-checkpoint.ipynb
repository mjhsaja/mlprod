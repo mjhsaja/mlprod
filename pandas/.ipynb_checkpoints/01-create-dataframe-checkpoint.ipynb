{
 "cells": [
  {
   "cell_type": "markdown",
   "id": "67c1f3f0-cd64-42fa-8aa0-af27b494ea9f",
   "metadata": {},
   "source": [
    "### 1. Membuat dataframe dari list array"
   ]
  },
  {
   "cell_type": "code",
   "execution_count": 1,
   "id": "8cffe955-f982-4562-823b-470812fd15ee",
   "metadata": {},
   "outputs": [],
   "source": [
    "import pandas as pd"
   ]
  },
  {
   "cell_type": "code",
   "execution_count": 2,
   "id": "32930e14-272a-4843-8057-f7e87a7d1f1b",
   "metadata": {},
   "outputs": [],
   "source": [
    "list_data = [[\"C1\", 5, \"Jakarta\"], [\"C2\", 10, \"Bogor\"], [\"C3\", 7, \"Tangerang\"], [\"C4\", 0, \"Jakarta\"]]"
   ]
  },
  {
   "cell_type": "code",
   "execution_count": 10,
   "id": "5c4dd4f9-19f3-462d-a9cb-04ba91336b6b",
   "metadata": {},
   "outputs": [
    {
     "data": {
      "text/plain": [
       "list"
      ]
     },
     "execution_count": 10,
     "metadata": {},
     "output_type": "execute_result"
    }
   ],
   "source": [
    "type(list_data)"
   ]
  },
  {
   "cell_type": "code",
   "execution_count": 5,
   "id": "060f4dc4-9b29-4093-8e65-81a2acbb2a3e",
   "metadata": {},
   "outputs": [
    {
     "data": {
      "text/html": [
       "<div>\n",
       "<style scoped>\n",
       "    .dataframe tbody tr th:only-of-type {\n",
       "        vertical-align: middle;\n",
       "    }\n",
       "\n",
       "    .dataframe tbody tr th {\n",
       "        vertical-align: top;\n",
       "    }\n",
       "\n",
       "    .dataframe thead th {\n",
       "        text-align: right;\n",
       "    }\n",
       "</style>\n",
       "<table border=\"1\" class=\"dataframe\">\n",
       "  <thead>\n",
       "    <tr style=\"text-align: right;\">\n",
       "      <th></th>\n",
       "      <th>cust_id</th>\n",
       "      <th>item_bought</th>\n",
       "      <th>city</th>\n",
       "    </tr>\n",
       "  </thead>\n",
       "  <tbody>\n",
       "    <tr>\n",
       "      <th>0</th>\n",
       "      <td>C1</td>\n",
       "      <td>5</td>\n",
       "      <td>Jakarta</td>\n",
       "    </tr>\n",
       "    <tr>\n",
       "      <th>1</th>\n",
       "      <td>C2</td>\n",
       "      <td>10</td>\n",
       "      <td>Bogor</td>\n",
       "    </tr>\n",
       "    <tr>\n",
       "      <th>2</th>\n",
       "      <td>C3</td>\n",
       "      <td>7</td>\n",
       "      <td>Tangerang</td>\n",
       "    </tr>\n",
       "    <tr>\n",
       "      <th>3</th>\n",
       "      <td>C4</td>\n",
       "      <td>0</td>\n",
       "      <td>Jakarta</td>\n",
       "    </tr>\n",
       "  </tbody>\n",
       "</table>\n",
       "</div>"
      ],
      "text/plain": [
       "  cust_id  item_bought       city\n",
       "0      C1            5    Jakarta\n",
       "1      C2           10      Bogor\n",
       "2      C3            7  Tangerang\n",
       "3      C4            0    Jakarta"
      ]
     },
     "execution_count": 5,
     "metadata": {},
     "output_type": "execute_result"
    }
   ],
   "source": [
    "df = pd.DataFrame(list_data, columns = [\"cust_id\", \"item_bought\", \"city\"])\n",
    "df"
   ]
  },
  {
   "cell_type": "code",
   "execution_count": 6,
   "id": "a0835740-efb3-4039-99c9-71c1548e9563",
   "metadata": {},
   "outputs": [
    {
     "data": {
      "text/plain": [
       "pandas.core.frame.DataFrame"
      ]
     },
     "execution_count": 6,
     "metadata": {},
     "output_type": "execute_result"
    }
   ],
   "source": [
    "type(df)"
   ]
  },
  {
   "cell_type": "markdown",
   "id": "236f512d-eeb4-4c33-98a2-5eaa8539cf87",
   "metadata": {},
   "source": [
    "### 2. Membuat dataframe dari numpy array"
   ]
  },
  {
   "cell_type": "code",
   "execution_count": 7,
   "id": "015f28c9-6aa0-4648-ac86-6129dac98f9c",
   "metadata": {},
   "outputs": [],
   "source": [
    "import numpy as np"
   ]
  },
  {
   "cell_type": "code",
   "execution_count": 8,
   "id": "7194b34f-fdfd-41bb-b45c-027780dca38b",
   "metadata": {},
   "outputs": [
    {
     "data": {
      "text/plain": [
       "array([['C1', '5', 'Jakarta'],\n",
       "       ['C2', '10', 'Bogor'],\n",
       "       ['C3', '7', 'Tangerang'],\n",
       "       ['C4', '0', 'Jakarta']], dtype='<U21')"
      ]
     },
     "execution_count": 8,
     "metadata": {},
     "output_type": "execute_result"
    }
   ],
   "source": [
    "numpy_data = np.array(list_data)\n",
    "numpy_data"
   ]
  },
  {
   "cell_type": "code",
   "execution_count": 9,
   "id": "46423cbe-5472-4132-bf72-cf2801529aed",
   "metadata": {},
   "outputs": [
    {
     "data": {
      "text/plain": [
       "numpy.ndarray"
      ]
     },
     "execution_count": 9,
     "metadata": {},
     "output_type": "execute_result"
    }
   ],
   "source": [
    "type(numpy_data)"
   ]
  },
  {
   "cell_type": "code",
   "execution_count": 13,
   "id": "88edcae7-b5bd-4381-a30b-0e6eec80c67b",
   "metadata": {},
   "outputs": [
    {
     "data": {
      "text/html": [
       "<div>\n",
       "<style scoped>\n",
       "    .dataframe tbody tr th:only-of-type {\n",
       "        vertical-align: middle;\n",
       "    }\n",
       "\n",
       "    .dataframe tbody tr th {\n",
       "        vertical-align: top;\n",
       "    }\n",
       "\n",
       "    .dataframe thead th {\n",
       "        text-align: right;\n",
       "    }\n",
       "</style>\n",
       "<table border=\"1\" class=\"dataframe\">\n",
       "  <thead>\n",
       "    <tr style=\"text-align: right;\">\n",
       "      <th></th>\n",
       "      <th>cust_id</th>\n",
       "      <th>item_bought</th>\n",
       "      <th>city</th>\n",
       "    </tr>\n",
       "  </thead>\n",
       "  <tbody>\n",
       "    <tr>\n",
       "      <th>0</th>\n",
       "      <td>C1</td>\n",
       "      <td>5</td>\n",
       "      <td>Jakarta</td>\n",
       "    </tr>\n",
       "    <tr>\n",
       "      <th>1</th>\n",
       "      <td>C2</td>\n",
       "      <td>10</td>\n",
       "      <td>Bogor</td>\n",
       "    </tr>\n",
       "    <tr>\n",
       "      <th>2</th>\n",
       "      <td>C3</td>\n",
       "      <td>7</td>\n",
       "      <td>Tangerang</td>\n",
       "    </tr>\n",
       "    <tr>\n",
       "      <th>3</th>\n",
       "      <td>C4</td>\n",
       "      <td>0</td>\n",
       "      <td>Jakarta</td>\n",
       "    </tr>\n",
       "  </tbody>\n",
       "</table>\n",
       "</div>"
      ],
      "text/plain": [
       "  cust_id item_bought       city\n",
       "0      C1           5    Jakarta\n",
       "1      C2          10      Bogor\n",
       "2      C3           7  Tangerang\n",
       "3      C4           0    Jakarta"
      ]
     },
     "execution_count": 13,
     "metadata": {},
     "output_type": "execute_result"
    }
   ],
   "source": [
    "df = pd.DataFrame(numpy_data, columns = [\"cust_id\", \"item_bought\", \"city\"])\n",
    "df"
   ]
  },
  {
   "cell_type": "code",
   "execution_count": 14,
   "id": "b3f200c1-3a76-4812-b6c8-32ff059e05de",
   "metadata": {},
   "outputs": [
    {
     "data": {
      "text/plain": [
       "pandas.core.frame.DataFrame"
      ]
     },
     "execution_count": 14,
     "metadata": {},
     "output_type": "execute_result"
    }
   ],
   "source": [
    "type(df)"
   ]
  },
  {
   "cell_type": "markdown",
   "id": "06c0c5f3-77ac-4d48-b11f-c205151fbdb7",
   "metadata": {},
   "source": [
    "### 3. Membuat dataframe dari dictionary array"
   ]
  },
  {
   "cell_type": "code",
   "execution_count": 15,
   "id": "9973080b-68a6-452f-a9b4-c1ed26dbf115",
   "metadata": {},
   "outputs": [],
   "source": [
    "dict_data = {\"cust_id\": [\"C1\", \"C2\", \"C3\", \"C4\"], \n",
    "             \"item_bought\": [5, 10, 7, 0], \n",
    "             \"city\": [\"Jakarta\", \"Bogor\", \"Tangerang\", \"Jakarta\"]}"
   ]
  },
  {
   "cell_type": "code",
   "execution_count": 16,
   "id": "a537e922-3dd7-4ce3-b410-81850ea227c6",
   "metadata": {},
   "outputs": [
    {
     "data": {
      "text/plain": [
       "dict"
      ]
     },
     "execution_count": 16,
     "metadata": {},
     "output_type": "execute_result"
    }
   ],
   "source": [
    "type(dict_data)"
   ]
  },
  {
   "cell_type": "code",
   "execution_count": 17,
   "id": "3775d22a-a5b1-4759-aae8-60dd0059537b",
   "metadata": {},
   "outputs": [
    {
     "data": {
      "text/html": [
       "<div>\n",
       "<style scoped>\n",
       "    .dataframe tbody tr th:only-of-type {\n",
       "        vertical-align: middle;\n",
       "    }\n",
       "\n",
       "    .dataframe tbody tr th {\n",
       "        vertical-align: top;\n",
       "    }\n",
       "\n",
       "    .dataframe thead th {\n",
       "        text-align: right;\n",
       "    }\n",
       "</style>\n",
       "<table border=\"1\" class=\"dataframe\">\n",
       "  <thead>\n",
       "    <tr style=\"text-align: right;\">\n",
       "      <th></th>\n",
       "      <th>cust_id</th>\n",
       "      <th>item_bought</th>\n",
       "      <th>city</th>\n",
       "    </tr>\n",
       "  </thead>\n",
       "  <tbody>\n",
       "    <tr>\n",
       "      <th>0</th>\n",
       "      <td>C1</td>\n",
       "      <td>5</td>\n",
       "      <td>Jakarta</td>\n",
       "    </tr>\n",
       "    <tr>\n",
       "      <th>1</th>\n",
       "      <td>C2</td>\n",
       "      <td>10</td>\n",
       "      <td>Bogor</td>\n",
       "    </tr>\n",
       "    <tr>\n",
       "      <th>2</th>\n",
       "      <td>C3</td>\n",
       "      <td>7</td>\n",
       "      <td>Tangerang</td>\n",
       "    </tr>\n",
       "    <tr>\n",
       "      <th>3</th>\n",
       "      <td>C4</td>\n",
       "      <td>0</td>\n",
       "      <td>Jakarta</td>\n",
       "    </tr>\n",
       "  </tbody>\n",
       "</table>\n",
       "</div>"
      ],
      "text/plain": [
       "  cust_id  item_bought       city\n",
       "0      C1            5    Jakarta\n",
       "1      C2           10      Bogor\n",
       "2      C3            7  Tangerang\n",
       "3      C4            0    Jakarta"
      ]
     },
     "execution_count": 17,
     "metadata": {},
     "output_type": "execute_result"
    }
   ],
   "source": [
    "df = pd.DataFrame(dict_data)\n",
    "df"
   ]
  },
  {
   "cell_type": "code",
   "execution_count": 18,
   "id": "0cdbb21c-4922-470b-84f0-3c6ace72e3ca",
   "metadata": {},
   "outputs": [
    {
     "data": {
      "text/plain": [
       "pandas.core.frame.DataFrame"
      ]
     },
     "execution_count": 18,
     "metadata": {},
     "output_type": "execute_result"
    }
   ],
   "source": [
    "type(df)"
   ]
  },
  {
   "cell_type": "code",
   "execution_count": null,
   "id": "c41092a9-f9b0-468e-8f8e-b2904bdda293",
   "metadata": {},
   "outputs": [],
   "source": []
  }
 ],
 "metadata": {
  "kernelspec": {
   "display_name": "Python 3 (ipykernel)",
   "language": "python",
   "name": "python3"
  },
  "language_info": {
   "codemirror_mode": {
    "name": "ipython",
    "version": 3
   },
   "file_extension": ".py",
   "mimetype": "text/x-python",
   "name": "python",
   "nbconvert_exporter": "python",
   "pygments_lexer": "ipython3",
   "version": "3.13.3"
  }
 },
 "nbformat": 4,
 "nbformat_minor": 5
}
